{
  "nbformat": 4,
  "nbformat_minor": 0,
  "metadata": {
    "colab": {
      "provenance": [],
      "authorship_tag": "ABX9TyMjPl4qKKSCETYzI0ZNjQew",
      "include_colab_link": true
    },
    "kernelspec": {
      "name": "python3",
      "display_name": "Python 3"
    },
    "language_info": {
      "name": "python"
    }
  },
  "cells": [
    {
      "cell_type": "markdown",
      "metadata": {
        "id": "view-in-github",
        "colab_type": "text"
      },
      "source": [
        "<a href=\"https://colab.research.google.com/github/ncc-chandni/PythonPractice/blob/main/Python_RegEx.ipynb\" target=\"_parent\"><img src=\"https://colab.research.google.com/assets/colab-badge.svg\" alt=\"Open In Colab\"/></a>"
      ]
    },
    {
      "cell_type": "markdown",
      "source": [
        "1. Write a Python program to check that a string contains only a certain set of characters (in this case a-z, A-Z and 0-9)."
      ],
      "metadata": {
        "id": "Ful30Scceyed"
      }
    },
    {
      "cell_type": "code",
      "execution_count": 2,
      "metadata": {
        "colab": {
          "base_uri": "https://localhost:8080/"
        },
        "id": "9n_5Dd9uevQb",
        "outputId": "42acf929-7455-4019-f3c3-b0f9ef461f37"
      },
      "outputs": [
        {
          "output_type": "stream",
          "name": "stdout",
          "text": [
            "False\n"
          ]
        }
      ],
      "source": [
        "import re\n",
        "\n",
        "def is_allowed(string):\n",
        "  charc = r'[A-Za-z0-9]'\n",
        "  return bool(re.search(charc, string))\n",
        "\n",
        "print(is_allowed(\"*&%@#!}{\"))"
      ]
    },
    {
      "cell_type": "markdown",
      "source": [
        "2. Write a Python program that matches a string that has an a followed by zero or more b's.\n",
        "\n"
      ],
      "metadata": {
        "id": "dfuJ0jIPgHAX"
      }
    },
    {
      "cell_type": "code",
      "source": [
        "def find_a_match(string):\n",
        "  charc = r'^a(b)*$'\n",
        "  if re.search(charc, string):\n",
        "    return \"Found a match\"\n",
        "  else:\n",
        "    return \"Not a match\"\n",
        "\n",
        "print(find_a_match(\"abc\"))\n",
        "print(find_a_match(\"a\"))"
      ],
      "metadata": {
        "colab": {
          "base_uri": "https://localhost:8080/"
        },
        "id": "0_8f9NPEf-oH",
        "outputId": "5f32f87e-3278-4f0d-a9ff-caea0c95a212"
      },
      "execution_count": 8,
      "outputs": [
        {
          "output_type": "stream",
          "name": "stdout",
          "text": [
            "Not a match\n",
            "Found a match\n"
          ]
        }
      ]
    },
    {
      "cell_type": "markdown",
      "source": [
        "3. Write a Python program that matches a string that has an a followed by one or more b's."
      ],
      "metadata": {
        "id": "IJWmP2rshlYM"
      }
    },
    {
      "cell_type": "code",
      "source": [
        "def find_a_match(string):\n",
        "  charc = r'ab+'\n",
        "  if re.search(charc, string):\n",
        "    return \"Found a match\"\n",
        "  else:\n",
        "    return \"Not a match\"\n",
        "\n",
        "print(find_a_match(\"abc\"))\n",
        "print(find_a_match(\"a\"))"
      ],
      "metadata": {
        "colab": {
          "base_uri": "https://localhost:8080/"
        },
        "id": "OnAdsn3kg95x",
        "outputId": "8fa22ea2-8c36-49a3-e8c7-b5bccd91cab7"
      },
      "execution_count": 10,
      "outputs": [
        {
          "output_type": "stream",
          "name": "stdout",
          "text": [
            "Found a match\n",
            "Not a match\n"
          ]
        }
      ]
    },
    {
      "cell_type": "markdown",
      "source": [
        "4. Write a Python program that matches a string that has an a followed by zero or one 'b'."
      ],
      "metadata": {
        "id": "kZz5Iabnh9wH"
      }
    },
    {
      "cell_type": "code",
      "source": [
        "def find_a_match(string):\n",
        "  charc = r'ab?'\n",
        "  if re.search(charc, string):\n",
        "    return \"Found a match\"\n",
        "  else:\n",
        "    return \"Not a match\"\n",
        "\n",
        "print(find_a_match(\"abc\"))\n",
        "print(find_a_match(\"a\"))"
      ],
      "metadata": {
        "colab": {
          "base_uri": "https://localhost:8080/"
        },
        "id": "UflNRiEwhwpD",
        "outputId": "613ca96c-490b-4868-afef-c17783adcc1b"
      },
      "execution_count": 11,
      "outputs": [
        {
          "output_type": "stream",
          "name": "stdout",
          "text": [
            "Found a match\n",
            "Found a match\n"
          ]
        }
      ]
    },
    {
      "cell_type": "markdown",
      "source": [
        "5. Write a Python program that matches a string that has an a followed by three 'b'.\n",
        "\n"
      ],
      "metadata": {
        "id": "38Buz2FaiOw1"
      }
    },
    {
      "cell_type": "code",
      "source": [
        "def find_a_match(string):\n",
        "  charc = r'a(b){3}?'\n",
        "  if re.search(charc, string):\n",
        "    return \"Found a match\"\n",
        "  else:\n",
        "    return \"Not a match\"\n",
        "\n",
        "print(find_a_match(\"abc\"))\n",
        "print(find_a_match(\"abbbbbbc\"))"
      ],
      "metadata": {
        "colab": {
          "base_uri": "https://localhost:8080/"
        },
        "id": "-IafPN7AiHvn",
        "outputId": "40e53b05-d88e-400b-9446-9be67a4bd8c8"
      },
      "execution_count": 14,
      "outputs": [
        {
          "output_type": "stream",
          "name": "stdout",
          "text": [
            "Not a match\n",
            "Found a match\n"
          ]
        }
      ]
    },
    {
      "cell_type": "markdown",
      "source": [
        "6. Write a Python program that matches a string that has an a followed by two to three 'b'."
      ],
      "metadata": {
        "id": "R63wZlJTii2c"
      }
    },
    {
      "cell_type": "code",
      "source": [
        "def find_a_match(string):\n",
        "  charc = r'a(b){2,3}?'\n",
        "  if re.search(charc, string):\n",
        "    return \"Found a match\"\n",
        "  else:\n",
        "    return \"Not a match\"\n",
        "\n",
        "print(find_a_match(\"abc\"))\n",
        "print(find_a_match(\"abbbbbbc\"))"
      ],
      "metadata": {
        "colab": {
          "base_uri": "https://localhost:8080/"
        },
        "id": "OkrnpEw-iWz5",
        "outputId": "8ccb4309-f5fd-49d1-cbd1-1b0aa54aee97"
      },
      "execution_count": 15,
      "outputs": [
        {
          "output_type": "stream",
          "name": "stdout",
          "text": [
            "Not a match\n",
            "Found a match\n"
          ]
        }
      ]
    },
    {
      "cell_type": "markdown",
      "source": [
        "7. Write a Python program to find sequences of lowercase letters joined by an underscore."
      ],
      "metadata": {
        "id": "qTHvTB9Aitr8"
      }
    },
    {
      "cell_type": "code",
      "source": [
        "def find_a_match(string):\n",
        "  charc = r'^[a-z]+[\\_][a-z]+$'\n",
        "  if re.search(charc, string):\n",
        "    return \"Found a match\"\n",
        "  else:\n",
        "    return \"Not a match\"\n",
        "\n",
        "print(find_a_match(\"aab_cbbbc\"))\n",
        "print(find_a_match(\"aab_Abbbc\"))\n",
        "print(find_a_match(\"Aaab_abbbc\"))"
      ],
      "metadata": {
        "colab": {
          "base_uri": "https://localhost:8080/"
        },
        "id": "_8-9gPdzipG3",
        "outputId": "009cc311-3601-49c1-aeb3-c95034399d1e"
      },
      "execution_count": 21,
      "outputs": [
        {
          "output_type": "stream",
          "name": "stdout",
          "text": [
            "Found a match\n",
            "Not a match\n",
            "Not a match\n"
          ]
        }
      ]
    },
    {
      "cell_type": "markdown",
      "source": [
        "8. Write a Python program to find the sequences of one upper case letter followed by lower case letters."
      ],
      "metadata": {
        "id": "UqgtZ4zDjh2x"
      }
    },
    {
      "cell_type": "code",
      "source": [
        "def find_a_match(string):\n",
        "  charc = r'[A-Z]+[a-z]+$'\n",
        "  if re.search(charc, string):\n",
        "    return \"Found a match\"\n",
        "  else:\n",
        "    return \"Not a match\"\n",
        "\n",
        "print(find_a_match(\"AaBbGg\"))\n",
        "print(find_a_match(\"Python\"))\n",
        "print(find_a_match(\"aA\"))"
      ],
      "metadata": {
        "colab": {
          "base_uri": "https://localhost:8080/"
        },
        "id": "I6SnbM7zi-n-",
        "outputId": "e09c15a0-1aa7-47d6-91db-99535d1b175d"
      },
      "execution_count": 28,
      "outputs": [
        {
          "output_type": "stream",
          "name": "stdout",
          "text": [
            "Found a match\n",
            "Found a match\n",
            "Not a match\n"
          ]
        }
      ]
    },
    {
      "cell_type": "markdown",
      "source": [
        "9. Write a Python program that matches a string that has an 'a' followed by anything ending in 'b'."
      ],
      "metadata": {
        "id": "REk_gRlvk1GT"
      }
    },
    {
      "cell_type": "code",
      "source": [
        "def find_a_match(string):\n",
        "  charc = r'^a.*b$'\n",
        "  if re.search(charc, string):\n",
        "    return \"Found a match\"\n",
        "  else:\n",
        "    return \"Not a match\"\n",
        "\n",
        "print(find_a_match(\"AaBbGg\"))\n",
        "print(find_a_match(\"Python\"))\n",
        "print(find_a_match(\"aAb\"))"
      ],
      "metadata": {
        "colab": {
          "base_uri": "https://localhost:8080/"
        },
        "id": "zQk3rPK8kHky",
        "outputId": "97221c97-97a9-496b-a818-46c6ca9419a5"
      },
      "execution_count": 30,
      "outputs": [
        {
          "output_type": "stream",
          "name": "stdout",
          "text": [
            "Not a match\n",
            "Not a match\n",
            "Found a match\n"
          ]
        }
      ]
    },
    {
      "cell_type": "markdown",
      "source": [
        "10. Write a Python program that matches a word at the beginning of a string."
      ],
      "metadata": {
        "id": "uq6XwWYemmPt"
      }
    },
    {
      "cell_type": "code",
      "source": [
        "def find_a_match(string):\n",
        "  charc = r'^\\w+'\n",
        "  if re.search(charc, string):\n",
        "    return \"Found a match\"\n",
        "  else:\n",
        "    return \"Not a match\"\n",
        "\n",
        "\n",
        "print(find_a_match(\"Python \"))\n",
        "print(find_a_match(\" aAb\"))"
      ],
      "metadata": {
        "colab": {
          "base_uri": "https://localhost:8080/"
        },
        "id": "dx7ZaKAcmeFe",
        "outputId": "f0ee23c4-a663-436e-d015-3a44ada216bf"
      },
      "execution_count": 31,
      "outputs": [
        {
          "output_type": "stream",
          "name": "stdout",
          "text": [
            "Found a match\n",
            "Not a match\n"
          ]
        }
      ]
    },
    {
      "cell_type": "markdown",
      "source": [
        "11. Write a Python program that matches a word at the end of a string, with optional punctuation.\n",
        "\n"
      ],
      "metadata": {
        "id": "U4AzQS38nRM8"
      }
    },
    {
      "cell_type": "code",
      "source": [
        "def find_a_match(string):\n",
        "  charc = r'\\w+\\S*$'\n",
        "  if re.search(charc, string):\n",
        "    return \"Found a match\"\n",
        "  else:\n",
        "    return \"Not a match\"\n",
        "\n",
        "\n",
        "print(find_a_match(\"Python\"))\n",
        "print(find_a_match(\" aAb.\"))\n",
        "print(find_a_match(\" aAb. \"))"
      ],
      "metadata": {
        "colab": {
          "base_uri": "https://localhost:8080/"
        },
        "id": "cn_tFRpTnNlu",
        "outputId": "be61eb0a-dd2c-450b-b23f-66a533321fc1"
      },
      "execution_count": 39,
      "outputs": [
        {
          "output_type": "stream",
          "name": "stdout",
          "text": [
            "Found a match\n",
            "Found a match\n",
            "Not a match\n"
          ]
        }
      ]
    },
    {
      "cell_type": "markdown",
      "source": [
        "12. Write a Python program that matches a word containing 'z'."
      ],
      "metadata": {
        "id": "sDwWGQWpoWf1"
      }
    },
    {
      "cell_type": "code",
      "source": [
        "def find_a_match(string):\n",
        "  charc = r'\\w*z.\\w*'\n",
        "  if re.search(charc, string):\n",
        "    return \"Found a match\"\n",
        "  else:\n",
        "    return \"Not a match\"\n",
        "\n",
        "\n",
        "print(find_a_match(\"Python\"))\n",
        "print(find_a_match(\" azb.\"))\n",
        "print(find_a_match(\" z \"))"
      ],
      "metadata": {
        "colab": {
          "base_uri": "https://localhost:8080/"
        },
        "id": "kMs0ddjQns_P",
        "outputId": "f2ab0ce8-65fc-437b-b0fd-9d412ba04944"
      },
      "execution_count": 48,
      "outputs": [
        {
          "output_type": "stream",
          "name": "stdout",
          "text": [
            "Not a match\n",
            "Found a match\n",
            "Found a match\n"
          ]
        }
      ]
    },
    {
      "cell_type": "markdown",
      "source": [
        "13. Write a Python program that matches a word containing 'z', not the start or end of the word."
      ],
      "metadata": {
        "id": "aPnq86DipUaA"
      }
    },
    {
      "cell_type": "code",
      "source": [
        "def find_a_match(string):\n",
        "  charc = r'\\Bz\\B'\n",
        "  if re.search(charc, string):\n",
        "    return \"Found a match\"\n",
        "  else:\n",
        "    return \"Not a match\"\n",
        "\n",
        "\n",
        "print(find_a_match(\"Python\"))\n",
        "print(find_a_match(\" azb.\"))\n",
        "print(find_a_match(\" z \"))"
      ],
      "metadata": {
        "colab": {
          "base_uri": "https://localhost:8080/"
        },
        "id": "_nrKqeJ3odHF",
        "outputId": "d8643fb5-0dbd-4d4e-a4f4-39f4ec6e59e3"
      },
      "execution_count": 50,
      "outputs": [
        {
          "output_type": "stream",
          "name": "stdout",
          "text": [
            "Not a match\n",
            "Found a match\n",
            "Not a match\n"
          ]
        }
      ]
    },
    {
      "cell_type": "markdown",
      "source": [
        "14. Write a Python program to match a string that contains only upper and lowercase letters, numbers, and underscores."
      ],
      "metadata": {
        "id": "KcZAxLMVp5AL"
      }
    },
    {
      "cell_type": "code",
      "source": [
        "def find_a_match(string):\n",
        "  charc = r'^[a-zA-z0-9_]*$'\n",
        "  if re.search(charc, string):\n",
        "    return \"Found a match\"\n",
        "  else:\n",
        "    return \"Not a match\"\n",
        "\n",
        "\n",
        "print(find_a_match(\"Python\"))\n",
        "print(find_a_match(\"1azb\"))\n",
        "print(find_a_match(\"+ \"))"
      ],
      "metadata": {
        "colab": {
          "base_uri": "https://localhost:8080/"
        },
        "id": "-D5rxT-Zpboa",
        "outputId": "b421c45a-24b8-487c-d574-c1dc71fc4f2b"
      },
      "execution_count": 59,
      "outputs": [
        {
          "output_type": "stream",
          "name": "stdout",
          "text": [
            "Found a match\n",
            "Found a match\n",
            "Not a match\n"
          ]
        }
      ]
    },
    {
      "cell_type": "markdown",
      "source": [
        "15. Write a Python program that starts each string with a specific number."
      ],
      "metadata": {
        "id": "Iewu9n_qsJ_n"
      }
    },
    {
      "cell_type": "code",
      "source": [
        "def find_a_match(string):\n",
        "  charc = r'^5'\n",
        "  if re.search(charc, string):\n",
        "    return \"Found a match\"\n",
        "  else:\n",
        "    return \"Not a match\"\n",
        "\n",
        "\n",
        "print(find_a_match(\"Python\"))\n",
        "print(find_a_match(\"5 azb\"))"
      ],
      "metadata": {
        "colab": {
          "base_uri": "https://localhost:8080/"
        },
        "id": "FcHQv-HZqGbw",
        "outputId": "71706b25-2131-4367-b9a7-00371224d3cf"
      },
      "execution_count": 61,
      "outputs": [
        {
          "output_type": "stream",
          "name": "stdout",
          "text": [
            "Not a match\n",
            "Found a match\n"
          ]
        }
      ]
    },
    {
      "cell_type": "markdown",
      "source": [
        "Write a Python program to remove leading zeros from an IP address."
      ],
      "metadata": {
        "id": "ns3vyl1nszzr"
      }
    },
    {
      "cell_type": "code",
      "source": [
        "ip = \"216.008.0940.196\"\n",
        "print(re.sub('\\.[0]*','.',ip))"
      ],
      "metadata": {
        "colab": {
          "base_uri": "https://localhost:8080/"
        },
        "id": "xm8BV7k2so-1",
        "outputId": "d83f5f0f-551f-4e23-9c5f-b23e97236663"
      },
      "execution_count": 78,
      "outputs": [
        {
          "output_type": "stream",
          "name": "stdout",
          "text": [
            "216.8.940.196\n"
          ]
        }
      ]
    },
    {
      "cell_type": "markdown",
      "source": [
        "17. Write a Python program to check for a number at the end of a string."
      ],
      "metadata": {
        "id": "m2XJ-d38vnG5"
      }
    },
    {
      "cell_type": "code",
      "source": [
        "def find_a_match(string):\n",
        "  charc = r'[0-9]$'\n",
        "  if re.search(charc, string):\n",
        "    return \"Found a match\"\n",
        "  else:\n",
        "    return \"Not a match\"\n",
        "\n",
        "\n",
        "print(find_a_match(\"Python5\"))\n",
        "print(find_a_match(\"5 azb\"))"
      ],
      "metadata": {
        "colab": {
          "base_uri": "https://localhost:8080/"
        },
        "id": "p0lpOV4ktnC0",
        "outputId": "b2b6bbe2-d589-44b8-ce09-8f92535631e7"
      },
      "execution_count": 82,
      "outputs": [
        {
          "output_type": "stream",
          "name": "stdout",
          "text": [
            "Found a match\n",
            "Not a match\n"
          ]
        }
      ]
    },
    {
      "cell_type": "markdown",
      "source": [
        "18. Write a Python program to search for numbers (0-9) of length between 1 and 3 in a given string."
      ],
      "metadata": {
        "id": "K5il5D0Sv8IO"
      }
    },
    {
      "cell_type": "code",
      "source": [
        "charc = r'[0-9]{1,}'\n",
        "results = re.finditer(charc, \"Exercises number 1, 12000, 13, and 345 are important\")\n",
        "for n in results:\n",
        "  if int(n.group(0)) > 0 and int(n.group(0)) < 1000:\n",
        "    print(n.group(0))"
      ],
      "metadata": {
        "colab": {
          "base_uri": "https://localhost:8080/"
        },
        "id": "hiBVF_4jvuD0",
        "outputId": "ce975587-48b4-4c9e-b59f-fc57c6822abf"
      },
      "execution_count": 115,
      "outputs": [
        {
          "output_type": "stream",
          "name": "stdout",
          "text": [
            "1\n",
            "13\n",
            "345\n"
          ]
        }
      ]
    },
    {
      "cell_type": "markdown",
      "source": [
        "19. Write a Python program to search for literal strings within a string.\n",
        "Sample text : 'The quick brown fox jumps over the lazy dog.'\n",
        "Searched words : 'fox', 'dog', 'horse'"
      ],
      "metadata": {
        "id": "twzImiA-zBVD"
      }
    },
    {
      "cell_type": "code",
      "source": [
        "words = ['fox','dog','text']\n",
        "text = 'The quick brown fox jumps over the lazy dog.'\n",
        "for w in words:\n",
        "  print(f\"Searching for {w} in {text}\")\n",
        "  if re.search(w,text):\n",
        "    print(\"Matched\")\n",
        "  else:\n",
        "    print(\"Not Matched\")"
      ],
      "metadata": {
        "colab": {
          "base_uri": "https://localhost:8080/"
        },
        "id": "wE1ng0cywD68",
        "outputId": "345a8a23-ce64-49e4-c6e8-8c19b99e13e7"
      },
      "execution_count": 116,
      "outputs": [
        {
          "output_type": "stream",
          "name": "stdout",
          "text": [
            "Searching for fox in The quick brown fox jumps over the lazy dog.\n",
            "Matched\n",
            "Searching for dog in The quick brown fox jumps over the lazy dog.\n",
            "Matched\n",
            "Searching for text in The quick brown fox jumps over the lazy dog.\n",
            "Not Matched\n"
          ]
        }
      ]
    },
    {
      "cell_type": "markdown",
      "source": [
        "20. Write a Python program to search for a literal string in a string and also find the location within the original string where the pattern occurs.\n",
        "\n",
        "Sample text : 'The quick brown fox jumps over the lazy dog.'\n",
        "Searched words : 'fox'"
      ],
      "metadata": {
        "id": "ZVyHwQiJ03g5"
      }
    },
    {
      "cell_type": "code",
      "source": [
        "word = 'fox'\n",
        "text = 'The quick brown fox jumps over the lazy dog.'\n",
        "match = re.search(word, text)\n",
        "s = match.start()\n",
        "e = match.end()\n",
        "print(f'Found \"{word}\" in \" {text}\" from {s} to {e} ')\n",
        "\n",
        ""
      ],
      "metadata": {
        "colab": {
          "base_uri": "https://localhost:8080/"
        },
        "id": "8y2qSi-g0ycF",
        "outputId": "21c213b5-2b23-402f-9eed-3be492f25e4f"
      },
      "execution_count": 123,
      "outputs": [
        {
          "output_type": "stream",
          "name": "stdout",
          "text": [
            "Found \"fox\" in \" The quick brown fox jumps over the lazy dog.\" from 16 to 19 \n"
          ]
        }
      ]
    },
    {
      "cell_type": "markdown",
      "source": [
        "21. Write a Python program to find the substrings within a string.\n",
        "\n",
        "text : 'Python exercises, PHP exercises, C# exercises'\n",
        "word: 'exercises'"
      ],
      "metadata": {
        "id": "nF19asrc2chs"
      }
    },
    {
      "cell_type": "code",
      "source": [
        "word = 'exercises'\n",
        "text = 'Python exercises, PHP exercises, C# exercises'\n",
        "\n",
        "for i in re.findall(word, text):\n",
        "    print(f\"Found '{i}' \")"
      ],
      "metadata": {
        "colab": {
          "base_uri": "https://localhost:8080/"
        },
        "id": "iKhnmo_d2Bw8",
        "outputId": "8c807e62-2af4-42d1-d57f-659c440aad79"
      },
      "execution_count": 131,
      "outputs": [
        {
          "output_type": "stream",
          "name": "stdout",
          "text": [
            "Found 'exercises' \n",
            "Found 'exercises' \n",
            "Found 'exercises' \n"
          ]
        }
      ]
    },
    {
      "cell_type": "markdown",
      "source": [
        "22. Write a Python program to find the occurrence and position of substrings within a string."
      ],
      "metadata": {
        "id": "WJm1kbOA3r79"
      }
    },
    {
      "cell_type": "code",
      "source": [
        "word = 'exercises'\n",
        "text = 'Python exercises, PHP exercises, C# exercises'\n",
        "\n",
        "for i in re.finditer(word, text):\n",
        "    s = i.start()\n",
        "    e = i.end()\n",
        "    print(f\"Found '{word}' from {s} to {e} \")"
      ],
      "metadata": {
        "colab": {
          "base_uri": "https://localhost:8080/"
        },
        "id": "WgHibJSc3Abq",
        "outputId": "4d1c975c-8907-4abf-fe0e-c323c5590200"
      },
      "execution_count": 135,
      "outputs": [
        {
          "output_type": "stream",
          "name": "stdout",
          "text": [
            "Found 'exercises' from 7 to 16 \n",
            "Found 'exercises' from 22 to 31 \n",
            "Found 'exercises' from 36 to 45 \n"
          ]
        }
      ]
    },
    {
      "cell_type": "markdown",
      "source": [
        "23. Write a Python program to replace whitespaces with an underscore and vice versa.\n",
        "\n"
      ],
      "metadata": {
        "id": "ZitjlS64KNBr"
      }
    },
    {
      "cell_type": "code",
      "source": [
        "text = 'Python Exercises'\n",
        "new_text = text.replace(' ','_')\n",
        "print(new_text)\n",
        "print(new_text.replace('_',' '))"
      ],
      "metadata": {
        "colab": {
          "base_uri": "https://localhost:8080/"
        },
        "id": "Rn6I9U_w3_GL",
        "outputId": "7f8d9d3c-d4f9-4a90-a5b7-79473d780100"
      },
      "execution_count": 139,
      "outputs": [
        {
          "output_type": "stream",
          "name": "stdout",
          "text": [
            "Python_Exercises\n",
            "Python Exercises\n"
          ]
        }
      ]
    },
    {
      "cell_type": "markdown",
      "source": [
        "24. Write a Python program to extract year, month and date from an URL."
      ],
      "metadata": {
        "id": "2HBGCKlaK-FU"
      }
    },
    {
      "cell_type": "code",
      "source": [
        "def extract_date(url):\n",
        "  return re.findall(r'/(\\d{4})/(\\d{1,2})/(\\d{1,2})/', url)\n",
        "\n",
        "url1= \"https://www.washingtonpost.com/news/football-insider/wp/2016/09/02/odell-beckhams-fame-rests-on-one-stupid-little-ball-josh-norman-tells-author/\"\n",
        "print(extract_date(url1))"
      ],
      "metadata": {
        "colab": {
          "base_uri": "https://localhost:8080/"
        },
        "id": "CP9Hqt6oKpyW",
        "outputId": "6f092987-8ef8-4f45-8dec-ff018f281011"
      },
      "execution_count": 142,
      "outputs": [
        {
          "output_type": "stream",
          "name": "stdout",
          "text": [
            "[('2016', '09', '02')]\n"
          ]
        }
      ]
    },
    {
      "cell_type": "markdown",
      "source": [
        "25. Write a Python program to convert a date of yyyy-mm-dd format to dd-mm-yyyy format."
      ],
      "metadata": {
        "id": "oLyq6cVGMBLW"
      }
    },
    {
      "cell_type": "code",
      "source": [
        "import re\n",
        "def change_date_format(dt):\n",
        "        return re.sub(r'(\\d{4})-(\\d{1,2})-(\\d{1,2})', '\\\\3-\\\\2-\\\\1', dt)\n",
        "dt1 = \"2026-01-02\"\n",
        "print(\"Original date in YYY-MM-DD Format: \",dt1)\n",
        "print(\"New date in DD-MM-YYYY Format: \",change_date_format(dt1))"
      ],
      "metadata": {
        "colab": {
          "base_uri": "https://localhost:8080/"
        },
        "id": "T2Y06ON_LuGA",
        "outputId": "4b100155-6216-4744-b988-0322dfc45c7a"
      },
      "execution_count": 143,
      "outputs": [
        {
          "output_type": "stream",
          "name": "stdout",
          "text": [
            "Original date in YYY-MM-DD Format:  2026-01-02\n",
            "New date in DD-MM-YYYY Format:  02-01-2026\n"
          ]
        }
      ]
    },
    {
      "cell_type": "markdown",
      "source": [
        "26. Write a Python program to match if two words from a list of words start with the letter 'P'."
      ],
      "metadata": {
        "id": "yteD81rHNCTB"
      }
    },
    {
      "cell_type": "code",
      "source": [
        "words = [\"atom Python PHP\", \"Java JavaScript\", \"c c++\"]\n",
        "\n",
        "for w in words:\n",
        "  if re.search(r'(P\\w+)\\s(P\\w+)', w):\n",
        "    print('matched')\n",
        "  else:\n",
        "    print('not matched')"
      ],
      "metadata": {
        "colab": {
          "base_uri": "https://localhost:8080/"
        },
        "id": "Li8jKV3AM-aT",
        "outputId": "a4242f79-79a2-47e4-bd1e-fee4bf45fa57"
      },
      "execution_count": 154,
      "outputs": [
        {
          "output_type": "stream",
          "name": "stdout",
          "text": [
            "matched\n",
            "not matched\n",
            "not matched\n"
          ]
        }
      ]
    },
    {
      "cell_type": "markdown",
      "source": [
        "27. Write a Python program to separate and print the numbers in a given string."
      ],
      "metadata": {
        "id": "MSddcR1GOuWO"
      }
    },
    {
      "cell_type": "code",
      "source": [
        "text = \"Ten 10, Twenty 20, Thirty 30\"\n",
        "charc = r'[0-9]{1,}'\n",
        "for t in text:\n",
        "  results = re.finditer(charc, text)\n",
        "for n in results:\n",
        "    print(n.group(0))"
      ],
      "metadata": {
        "colab": {
          "base_uri": "https://localhost:8080/"
        },
        "id": "Tf3ucxPyN16O",
        "outputId": "0f3bc913-fbef-4139-d63a-31df497cb61e"
      },
      "execution_count": 161,
      "outputs": [
        {
          "output_type": "stream",
          "name": "stdout",
          "text": [
            "10\n",
            "20\n",
            "30\n"
          ]
        }
      ]
    },
    {
      "cell_type": "markdown",
      "source": [
        "28. Write a Python program to find all words starting with 'a' or 'e' in a given string."
      ],
      "metadata": {
        "id": "ueuz9_GwQE19"
      }
    },
    {
      "cell_type": "code",
      "source": [
        "text = \"The following example creates an ArrayList with a capacity of 50 elements. Four elements are then added to the ArrayList and the ArrayList is trimmed accordingly.\"\n",
        "\n",
        "char = r'[aeAE]\\w+'\n",
        "\n",
        "for t in text:\n",
        "  results = re.finditer(char, text)\n",
        "for n in results:\n",
        "    print(n.group(0))"
      ],
      "metadata": {
        "colab": {
          "base_uri": "https://localhost:8080/"
        },
        "id": "-nlOdu2pQEry",
        "outputId": "41ea6cc3-d791-4c1e-cddf-c8986412a743"
      },
      "execution_count": 167,
      "outputs": [
        {
          "output_type": "stream",
          "name": "stdout",
          "text": [
            "example\n",
            "eates\n",
            "an\n",
            "ArrayList\n",
            "apacity\n",
            "elements\n",
            "elements\n",
            "are\n",
            "en\n",
            "added\n",
            "ArrayList\n",
            "and\n",
            "ArrayList\n",
            "ed\n",
            "accordingly\n"
          ]
        }
      ]
    },
    {
      "cell_type": "markdown",
      "source": [
        "29. Write a Python program to separate and print the numbers and their position in a given string.\n",
        "\n"
      ],
      "metadata": {
        "id": "jYXUU_YUQqu9"
      }
    },
    {
      "cell_type": "code",
      "source": [
        "text = \"The following example creates an ArrayList with a capacity of 50 elements. 4 elements are then added to the ArrayList and the ArrayList is trimmed accordingly.\"\n",
        "\n",
        "\n",
        "for num in re.finditer(r'[0-9]+', text):\n",
        "  s = num.start()\n",
        "  e = num.end()\n",
        "  print(f\" The number in the given text is {num.group(0)} and is between {s} to {e}\")"
      ],
      "metadata": {
        "colab": {
          "base_uri": "https://localhost:8080/"
        },
        "id": "EsZNaDYPPPQs",
        "outputId": "fc892057-ee7b-4f69-9676-d1ccb5312843"
      },
      "execution_count": 177,
      "outputs": [
        {
          "output_type": "stream",
          "name": "stdout",
          "text": [
            " The number in the given text is 50 and is between 62 to 64\n",
            " The number in the given text is 4 and is between 75 to 76\n"
          ]
        }
      ]
    },
    {
      "cell_type": "markdown",
      "source": [
        "30. Write a Python program to abbreviate 'Road' as 'Rd.' in a given string."
      ],
      "metadata": {
        "id": "AV67G1xoSRUr"
      }
    },
    {
      "cell_type": "code",
      "source": [
        "street = '21 Ramkrishna Road'\n",
        "print(street.replace('Road','Rd'))"
      ],
      "metadata": {
        "colab": {
          "base_uri": "https://localhost:8080/"
        },
        "id": "RtzxTdXSRK1Y",
        "outputId": "f0bfa44e-0172-4afc-eea6-468d078c72c4"
      },
      "execution_count": 178,
      "outputs": [
        {
          "output_type": "stream",
          "name": "stdout",
          "text": [
            "21 Ramkrishna Rd\n"
          ]
        }
      ]
    },
    {
      "cell_type": "markdown",
      "source": [
        "31. Write a Python program to replace all occurrences of a space, comma, or dot with a colon.\n",
        "\n"
      ],
      "metadata": {
        "id": "9QO-v4KQSfHL"
      }
    },
    {
      "cell_type": "code",
      "source": [
        "text = 'Python Exercises, PHP exercises.'\n",
        "print(re.sub('[ ,.]',':', text))"
      ],
      "metadata": {
        "colab": {
          "base_uri": "https://localhost:8080/"
        },
        "id": "qtRbY8ZqSbf-",
        "outputId": "a09c44dc-db6d-40c7-fa90-ce4c663a3f15"
      },
      "execution_count": 185,
      "outputs": [
        {
          "output_type": "stream",
          "name": "stdout",
          "text": [
            "Python:Exercises::PHP:exercises:\n"
          ]
        }
      ]
    },
    {
      "cell_type": "markdown",
      "source": [
        "32. Write a Python program to replace maximum 2 occurrences of space, comma, or dot with a colon."
      ],
      "metadata": {
        "id": "t6OcttvQTKja"
      }
    },
    {
      "cell_type": "code",
      "source": [
        "text = 'Python Exercises, PHP exercises.'\n",
        "print(re.sub('[ ,.]',':', text, 2))"
      ],
      "metadata": {
        "colab": {
          "base_uri": "https://localhost:8080/"
        },
        "id": "-a6XGU4lSvaU",
        "outputId": "0029d68f-0319-41b4-e30d-b598eb503c7c"
      },
      "execution_count": 187,
      "outputs": [
        {
          "output_type": "stream",
          "name": "stdout",
          "text": [
            "Python:Exercises: PHP exercises.\n"
          ]
        }
      ]
    },
    {
      "cell_type": "markdown",
      "source": [
        "33. Write a Python program to find all five-character words in a string."
      ],
      "metadata": {
        "id": "b9sXsaGFTjzU"
      }
    },
    {
      "cell_type": "code",
      "source": [
        "text = 'The quick brown fox jumps over the lazy dog.'\n",
        "print(re.findall(r'\\w{5}', text))"
      ],
      "metadata": {
        "colab": {
          "base_uri": "https://localhost:8080/"
        },
        "id": "PJ00pl2fTamX",
        "outputId": "027e082b-e121-40c4-9f2c-7bacaa4d9a37"
      },
      "execution_count": 189,
      "outputs": [
        {
          "output_type": "stream",
          "name": "stdout",
          "text": [
            "['quick', 'brown', 'jumps']\n"
          ]
        }
      ]
    },
    {
      "cell_type": "markdown",
      "source": [
        "34. Write a Python program to find all three, four, and five character words in a string."
      ],
      "metadata": {
        "id": "KyeoPpPqV_ab"
      }
    },
    {
      "cell_type": "code",
      "source": [
        "text = 'The quick brown fox jumps over the lazy dog.'\n",
        "print(re.findall(r'\\w{3,5}', text))"
      ],
      "metadata": {
        "colab": {
          "base_uri": "https://localhost:8080/"
        },
        "id": "EWHS0HRRV3Bl",
        "outputId": "dfc32c32-2dc6-4d06-82cd-80a1ef5b3872"
      },
      "execution_count": 190,
      "outputs": [
        {
          "output_type": "stream",
          "name": "stdout",
          "text": [
            "['The', 'quick', 'brown', 'fox', 'jumps', 'over', 'the', 'lazy', 'dog']\n"
          ]
        }
      ]
    },
    {
      "cell_type": "markdown",
      "source": [
        "35. Write a Python program to find all words that are at least 4 characters long in a string."
      ],
      "metadata": {
        "id": "6Xo-0tkHWSt2"
      }
    },
    {
      "cell_type": "code",
      "source": [
        "text = 'The quick brown fox jumps over the lazy dog.'\n",
        "print(re.findall(r'\\w{4,}', text))"
      ],
      "metadata": {
        "colab": {
          "base_uri": "https://localhost:8080/"
        },
        "id": "CaboZ7ZgWPOU",
        "outputId": "2806d1a5-0944-44f5-d720-b6aa581dc4ec"
      },
      "execution_count": 191,
      "outputs": [
        {
          "output_type": "stream",
          "name": "stdout",
          "text": [
            "['quick', 'brown', 'jumps', 'over', 'lazy']\n"
          ]
        }
      ]
    },
    {
      "cell_type": "markdown",
      "source": [
        "36. Write a Python program to convert a camel-case string to a snake-case string."
      ],
      "metadata": {
        "id": "HSyLP8EuWY5u"
      }
    },
    {
      "cell_type": "code",
      "source": [
        "def camel_to_snake(text):\n",
        "        import re\n",
        "        str1 = re.sub('(.)([A-Z][a-z]+)', r'\\1_\\2', text)\n",
        "        return re.sub('([a-z0-9])([A-Z])', r'\\1_\\2', str1).lower()\n",
        "\n",
        "print(camel_to_snake('PythonExercises'))"
      ],
      "metadata": {
        "colab": {
          "base_uri": "https://localhost:8080/"
        },
        "id": "5HWbApDXWV2r",
        "outputId": "474ec5fa-b213-4ca2-93b2-3e0d869ed419"
      },
      "execution_count": 192,
      "outputs": [
        {
          "output_type": "stream",
          "name": "stdout",
          "text": [
            "python_exercises\n"
          ]
        }
      ]
    },
    {
      "cell_type": "markdown",
      "source": [
        "37. Write a python program to convert snake-case string to camel-case string."
      ],
      "metadata": {
        "id": "EQMqdw27WmTj"
      }
    },
    {
      "cell_type": "code",
      "source": [
        "def snake_to_camel(word):\n",
        "        import re\n",
        "        return ''.join(x.capitalize() or '_' for x in word.split('_'))\n",
        "\n",
        "print(snake_to_camel('python_exercises'))"
      ],
      "metadata": {
        "colab": {
          "base_uri": "https://localhost:8080/"
        },
        "id": "6qWOvDxhWjN9",
        "outputId": "8a7fd3da-db7a-4d7d-da3f-ef99e3d7616c"
      },
      "execution_count": 193,
      "outputs": [
        {
          "output_type": "stream",
          "name": "stdout",
          "text": [
            "PythonExercises\n"
          ]
        }
      ]
    },
    {
      "cell_type": "markdown",
      "source": [
        "38. Write a Python program to extract values between quotation marks of a string."
      ],
      "metadata": {
        "id": "tOOu3ZzWXCiF"
      }
    },
    {
      "cell_type": "code",
      "source": [
        "text1 = '\"Python\", \"PHP\", \"Java\"'\n",
        "print(re.findall(r'\"(.*?)\"', text1))"
      ],
      "metadata": {
        "colab": {
          "base_uri": "https://localhost:8080/"
        },
        "id": "kRa13Im7W_C3",
        "outputId": "40bdd5b1-006d-4a81-a4e7-fdc7a3d9697c"
      },
      "execution_count": 194,
      "outputs": [
        {
          "output_type": "stream",
          "name": "stdout",
          "text": [
            "['Python', 'PHP', 'Java']\n"
          ]
        }
      ]
    },
    {
      "cell_type": "markdown",
      "source": [
        "39. Write a Python program to remove multiple spaces from a string.\n",
        "\n"
      ],
      "metadata": {
        "id": "zc6ogxUNXwB3"
      }
    },
    {
      "cell_type": "code",
      "source": [
        "text1 = 'Python      Exercises'\n",
        "print(re.sub(r' +', ' ', text1))"
      ],
      "metadata": {
        "colab": {
          "base_uri": "https://localhost:8080/"
        },
        "id": "dp8U3u2oXs6N",
        "outputId": "e6028032-df32-4336-923d-68bd20967ad7"
      },
      "execution_count": 195,
      "outputs": [
        {
          "output_type": "stream",
          "name": "stdout",
          "text": [
            "Python Exercises\n"
          ]
        }
      ]
    },
    {
      "cell_type": "markdown",
      "source": [
        "40. Write a Python program to remove all whitespaces from a string.\n"
      ],
      "metadata": {
        "id": "sHu6LrMmX_m_"
      }
    },
    {
      "cell_type": "code",
      "source": [
        "text1 = 'Python      Exercises'\n",
        "print(re.sub(r' +', '', text1))"
      ],
      "metadata": {
        "colab": {
          "base_uri": "https://localhost:8080/"
        },
        "id": "xKXcS7wLX8Xe",
        "outputId": "22ac97bb-22c1-4f36-a3b8-75650e0e4cbd"
      },
      "execution_count": 196,
      "outputs": [
        {
          "output_type": "stream",
          "name": "stdout",
          "text": [
            "PythonExercises\n"
          ]
        }
      ]
    },
    {
      "cell_type": "markdown",
      "source": [
        "41. Write a Python program to remove everything except alphanumeric characters from a string.\n",
        "\n"
      ],
      "metadata": {
        "id": "oiuuyX2MYJlR"
      }
    },
    {
      "cell_type": "code",
      "source": [
        "text1 = '**//Python Exercises// - 12. '\n",
        "print(re.sub(r'\\W','',text1))"
      ],
      "metadata": {
        "colab": {
          "base_uri": "https://localhost:8080/"
        },
        "id": "NQPoNwSaYE9w",
        "outputId": "6d167d30-79b0-4392-d328-fabed5e9c3de"
      },
      "execution_count": 198,
      "outputs": [
        {
          "output_type": "stream",
          "name": "stdout",
          "text": [
            "PythonExercises12\n"
          ]
        }
      ]
    },
    {
      "cell_type": "markdown",
      "source": [
        "42. Write a Python program to find URLs in a string."
      ],
      "metadata": {
        "id": "71UygAFrYg3B"
      }
    },
    {
      "cell_type": "code",
      "source": [
        "text = '<p>Contents :</p><a href=\"https://w3resource.com\">Python Examples</a><a href=\"http://github.com\">Even More Examples</a>'\n",
        "urls = re.findall('http[s]?://(?:[a-zA-Z]|[0-9]|[$-_@.&+]|[!*\\(\\),]|(?:%[0-9a-fA-F][0-9a-fA-F]))+', text)\n",
        "print(urls)"
      ],
      "metadata": {
        "colab": {
          "base_uri": "https://localhost:8080/"
        },
        "id": "8vo1WjGWYZo9",
        "outputId": "59d47ee5-be55-4026-b2cc-5b57835f30dc"
      },
      "execution_count": 199,
      "outputs": [
        {
          "output_type": "stream",
          "name": "stdout",
          "text": [
            "['https://w3resource.com', 'http://github.com']\n"
          ]
        }
      ]
    },
    {
      "cell_type": "markdown",
      "source": [
        "43. Write a Python program to split a string into uppercase letters."
      ],
      "metadata": {
        "id": "Rb7R0HWeZAzV"
      }
    },
    {
      "cell_type": "code",
      "source": [
        "text = \"PythonTutorialAndExercises\"\n",
        "print(re.findall(r'[A-Z][^A-Z]*', text))"
      ],
      "metadata": {
        "colab": {
          "base_uri": "https://localhost:8080/"
        },
        "id": "QipCNrEHYy6_",
        "outputId": "bbfed949-abae-4685-a544-a302512a77ea"
      },
      "execution_count": 201,
      "outputs": [
        {
          "output_type": "stream",
          "name": "stdout",
          "text": [
            "['Python', 'Tutorial', 'And', 'Exercises']\n"
          ]
        }
      ]
    },
    {
      "cell_type": "markdown",
      "source": [
        "44. Write a Python program to do case-insensitive string replacement.\n",
        "\n"
      ],
      "metadata": {
        "id": "n8Noj-BcZwvj"
      }
    },
    {
      "cell_type": "code",
      "source": [
        "text = \"PHP Exercises\"\n",
        "print(text.swapcase())"
      ],
      "metadata": {
        "colab": {
          "base_uri": "https://localhost:8080/"
        },
        "id": "ihv6BsObZpWX",
        "outputId": "e6628fca-29f6-4291-fd82-70455b94eb47"
      },
      "execution_count": 203,
      "outputs": [
        {
          "output_type": "stream",
          "name": "stdout",
          "text": [
            "php eXERCISES\n"
          ]
        }
      ]
    },
    {
      "cell_type": "markdown",
      "source": [
        "45. Write a Python program to remove ANSI escape sequences from a string.\n",
        "\n"
      ],
      "metadata": {
        "id": "cjOju7K-bJ28"
      }
    },
    {
      "cell_type": "code",
      "source": [
        "text = \"\\t\\u001b[0;35mgoogle.com\\u001b[0m \\u001b[0;36m216.58.218.206\\u001b[0m\"\n",
        "print(\"Original Text: \",text)\n",
        "reaesc = re.compile(r'\\x1b[^m]*m')\n",
        "new_text = reaesc.sub('', text)\n",
        "print(\"New Text: \",new_text)"
      ],
      "metadata": {
        "colab": {
          "base_uri": "https://localhost:8080/"
        },
        "id": "jgMo0-ZZaWe-",
        "outputId": "dc3a8f64-016b-4c6c-9358-b69a55180d6c"
      },
      "execution_count": 204,
      "outputs": [
        {
          "output_type": "stream",
          "name": "stdout",
          "text": [
            "Original Text:  \t\u001b[0;35mgoogle.com\u001b[0m \u001b[0;36m216.58.218.206\u001b[0m\n",
            "New Text:  \tgoogle.com 216.58.218.206\n"
          ]
        }
      ]
    },
    {
      "cell_type": "markdown",
      "source": [
        "46. Write a Python program to find all adverbs and their positions in a given sentence.\n",
        "\n",
        "Sample text : \"Clearly, he has no excuse for such behavior.\""
      ],
      "metadata": {
        "id": "qQ5bJsQjbTWN"
      }
    },
    {
      "cell_type": "code",
      "source": [
        "text = \"Clearly, he has no excuse for such behavior.\"\n",
        "for m in re.finditer(r'\\w+ly', text):\n",
        "  print(f\"{m.group(0)} {m.start()} {m.end()}\")"
      ],
      "metadata": {
        "colab": {
          "base_uri": "https://localhost:8080/"
        },
        "id": "myHbdQ-1bNHM",
        "outputId": "28a97e1a-39e8-4706-ace9-3765bd6ebec5"
      },
      "execution_count": 209,
      "outputs": [
        {
          "output_type": "stream",
          "name": "stdout",
          "text": [
            "Clearly 0 7\n"
          ]
        }
      ]
    },
    {
      "cell_type": "markdown",
      "source": [
        "47. Write a Python program to split a string with multiple delimiters.\n",
        "\n",
        "Note : A delimiter is a sequence of one or more characters used to specify the boundary between separate, independent regions in plain text or other data streams. An example of a delimiter is the comma character, which acts as a field delimiter in a sequence of comma-separated values."
      ],
      "metadata": {
        "id": "A_Xw_ULyb9Ju"
      }
    },
    {
      "cell_type": "code",
      "source": [
        "text = 'The quick brown\\nfox jumps*over the lazy dog.'\n",
        "print(re.split('; |, |\\*|\\n',text))"
      ],
      "metadata": {
        "colab": {
          "base_uri": "https://localhost:8080/"
        },
        "id": "ibNnqbIKbr7F",
        "outputId": "11081f7e-e721-4894-c352-b179feef59e7"
      },
      "execution_count": 210,
      "outputs": [
        {
          "output_type": "stream",
          "name": "stdout",
          "text": [
            "['The quick brown', 'fox jumps', 'over the lazy dog.']\n"
          ]
        }
      ]
    },
    {
      "cell_type": "markdown",
      "source": [
        "48. Write a Python program to check a decimal with a precision of 2."
      ],
      "metadata": {
        "id": "Uu7IVrXGcInH"
      }
    },
    {
      "cell_type": "code",
      "source": [
        "def is_decimal(num):\n",
        "  if re.search(r'^[0-9]*\\.[0-9]{2}$',num):\n",
        "    return 'True'\n",
        "  else:\n",
        "    return \"False\"\n",
        "\n",
        "print(is_decimal('123'))\n",
        "print(is_decimal('0.21'))\n",
        "print(is_decimal('e123.1214'))"
      ],
      "metadata": {
        "colab": {
          "base_uri": "https://localhost:8080/"
        },
        "id": "eOzJhkZycFFf",
        "outputId": "d5c683e2-5dbd-42b0-e590-706f164705c1"
      },
      "execution_count": 215,
      "outputs": [
        {
          "output_type": "stream",
          "name": "stdout",
          "text": [
            "False\n",
            "True\n",
            "False\n"
          ]
        }
      ]
    },
    {
      "cell_type": "markdown",
      "source": [
        "49. Write a Python program to remove words from a string of length between 1 and a given number.\n",
        "\n"
      ],
      "metadata": {
        "id": "ICGc9NFxdNSp"
      }
    },
    {
      "cell_type": "code",
      "source": [
        "text = \"The quick brown fox jumps over the lazy dog.\"\n",
        "print(re.sub(r'\\W*\\b\\w{1,3}\\s', ' ', text))"
      ],
      "metadata": {
        "colab": {
          "base_uri": "https://localhost:8080/"
        },
        "id": "WJe7Z9hLc0vO",
        "outputId": "305be421-fbcc-4022-eceb-899bc58a97ba"
      },
      "execution_count": 230,
      "outputs": [
        {
          "output_type": "stream",
          "name": "stdout",
          "text": [
            " quick brown jumps over lazy dog.\n"
          ]
        }
      ]
    },
    {
      "cell_type": "markdown",
      "source": [
        "50. Write a Python program to remove the parenthesis area in a string.\n",
        "Sample data : [\"example (.com)\", \"w3resource\", \"github (.com)\", \"stackoverflow (.com)\"]\n",
        "Expected Output:\n",
        "example\n",
        "w3resource\n",
        "github\n",
        "stackoverflow"
      ],
      "metadata": {
        "id": "acPFljqZex0D"
      }
    },
    {
      "cell_type": "code",
      "source": [
        "items = [\"example (.com)\", \"w3resource\", \"github (.com)\", \"stackoverflow (.com)\"]\n",
        "for item in items:\n",
        "  print(re.sub(r'\\(\\.[a-z]+\\)', '', item))"
      ],
      "metadata": {
        "colab": {
          "base_uri": "https://localhost:8080/"
        },
        "id": "MZqcOoDDdpXL",
        "outputId": "0c3c1a0f-7c74-4c77-eea6-938a1a3b601f"
      },
      "execution_count": 238,
      "outputs": [
        {
          "output_type": "stream",
          "name": "stdout",
          "text": [
            "example \n",
            "w3resource\n",
            "github \n",
            "stackoverflow \n"
          ]
        }
      ]
    },
    {
      "cell_type": "markdown",
      "source": [
        "51. Write a Python program to insert spaces between words starting with capital letters."
      ],
      "metadata": {
        "id": "xE22nMvmgO6i"
      }
    },
    {
      "cell_type": "code",
      "source": [
        "def capital_words_spaces(str1):\n",
        "  return re.sub(r\"(\\w)([A-Z])\", r\"\\1 \\2\", str1)\n",
        "\n",
        "print(capital_words_spaces(\"Python\"))\n",
        "print(capital_words_spaces(\"PythonExercises\"))\n",
        "print(capital_words_spaces(\"PythonExercisesPracticeSolution\"))\n"
      ],
      "metadata": {
        "colab": {
          "base_uri": "https://localhost:8080/"
        },
        "id": "VJvQk1qFfOWq",
        "outputId": "86f1240c-88b1-416e-d386-359c0abea771"
      },
      "execution_count": 239,
      "outputs": [
        {
          "output_type": "stream",
          "name": "stdout",
          "text": [
            "Python\n",
            "Python Exercises\n",
            "Python Exercises Practice Solution\n"
          ]
        }
      ]
    },
    {
      "cell_type": "code",
      "source": [],
      "metadata": {
        "id": "-OjPnhOcgYeu"
      },
      "execution_count": null,
      "outputs": []
    }
  ]
}